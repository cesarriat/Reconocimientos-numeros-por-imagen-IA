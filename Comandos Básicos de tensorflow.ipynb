{
 "cells": [
  {
   "cell_type": "markdown",
   "metadata": {},
   "source": [
    "Importamos libreria"
   ]
  },
  {
   "cell_type": "code",
   "execution_count": 1,
   "metadata": {},
   "outputs": [],
   "source": [
    "import tensorflow as tf"
   ]
  },
  {
   "cell_type": "markdown",
   "metadata": {},
   "source": [
    "tf.constant va quedar fijo a lo larog de todo el script o programa"
   ]
  },
  {
   "cell_type": "code",
   "execution_count": 2,
   "metadata": {},
   "outputs": [
    {
     "name": "stdout",
     "output_type": "stream",
     "text": [
      "Tensor(\"Constante1:0\", shape=(3,), dtype=float32)\n"
     ]
    }
   ],
   "source": [
    "constante=tf.constant([2.0,3,4],dtype=tf.float32, name='Constante1')\n",
    "print(constante) #va ser un vector con decimales"
   ]
  },
  {
   "cell_type": "markdown",
   "metadata": {},
   "source": [
    "tf.placeholder es una variable q va etar vacio en un principio pero va ir adquiriendo valores"
   ]
  },
  {
   "cell_type": "code",
   "execution_count": 3,
   "metadata": {},
   "outputs": [
    {
     "name": "stdout",
     "output_type": "stream",
     "text": [
      "Tensor(\"Apartado1:0\", dtype=float32)\n"
     ]
    }
   ],
   "source": [
    "\n",
    "apartado=tf.placeholder(tf.float32, name='Apartado1')\n",
    "print(apartado)"
   ]
  },
  {
   "cell_type": "markdown",
   "metadata": {},
   "source": [
    "tf.variable es una variable q va ir cambiando su valor a los largo de todo el programa"
   ]
  },
  {
   "cell_type": "code",
   "execution_count": 4,
   "metadata": {},
   "outputs": [
    {
     "name": "stdout",
     "output_type": "stream",
     "text": [
      "WARNING:tensorflow:From C:\\Users\\CESAR\\Anaconda3\\Nueva carpeta\\envs\\JAP\\lib\\site-packages\\tensorflow\\python\\framework\\op_def_library.py:263: colocate_with (from tensorflow.python.framework.ops) is deprecated and will be removed in a future version.\n",
      "Instructions for updating:\n",
      "Colocations handled automatically by placer.\n",
      "<tf.Variable 'variable1:0' shape=() dtype=float32_ref>\n"
     ]
    }
   ],
   "source": [
    "variable=tf.Variable(3,dtype=tf.float32,name='variable1')\n",
    "print(variable)"
   ]
  },
  {
   "cell_type": "markdown",
   "metadata": {},
   "source": [
    "Creamos una matriz con ceros pero que despues la podriamos usar, [renglones, columnas]"
   ]
  },
  {
   "cell_type": "code",
   "execution_count": 5,
   "metadata": {},
   "outputs": [
    {
     "name": "stdout",
     "output_type": "stream",
     "text": [
      "Tensor(\"matriz:0\", shape=(3, 4), dtype=int32)\n"
     ]
    }
   ],
   "source": [
    "\n",
    "matriz=tf.zeros([3, 4], tf.int32, name='matriz')\n",
    "print(matriz)"
   ]
  },
  {
   "cell_type": "markdown",
   "metadata": {},
   "source": [
    "Una vez descriptas las variables hay q inicializarlas , osea una vez q detallamos nuestra grafica computacional. "
   ]
  },
  {
   "cell_type": "code",
   "execution_count": 6,
   "metadata": {},
   "outputs": [
    {
     "name": "stdout",
     "output_type": "stream",
     "text": [
      "3.0\n"
     ]
    }
   ],
   "source": [
    "inicializar=tf.global_variables_initializer()\n",
    "sess=tf.Session()\n",
    "sess.run(inicializar)\n",
    "print(sess.run(variable))#aqui nos devuelve lo q ya tenemos definidos/ armado"
   ]
  },
  {
   "cell_type": "code",
   "execution_count": 7,
   "metadata": {},
   "outputs": [],
   "source": [
    "multiplicacion=apartado*constante"
   ]
  },
  {
   "cell_type": "code",
   "execution_count": 8,
   "metadata": {},
   "outputs": [
    {
     "name": "stdout",
     "output_type": "stream",
     "text": [
      "[[30. 30. 20.]]\n"
     ]
    }
   ],
   "source": [
    "print(sess.run(multiplicacion,feed_dict={apartado:[[15,10,5]]})) # despues de la coma es por qu no tiene valores\n"
   ]
  },
  {
   "cell_type": "code",
   "execution_count": 9,
   "metadata": {},
   "outputs": [
    {
     "name": "stdout",
     "output_type": "stream",
     "text": [
      "[[18. 25. 12.]\n",
      " [30. 46. 16.]]\n"
     ]
    }
   ],
   "source": [
    "#Multiplicacion de matrices necesita lleva la forma (M,N)x(N,M)=M,M\n",
    "a=tf.placeholder(tf.float32, shape=(2,2))\n",
    "b=tf.placeholder(tf.float32, shape=(2,3))\n",
    "#(2,2)x(2,3) aca genero grafica computacional\n",
    "mult=tf.matmul(a,b) # que va multiplicar matrices a y b\n",
    "init=tf.global_variables_initializer()\n",
    "sess=tf.Session()\n",
    "sess.run(init)\n",
    "print(sess.run(mult,feed_dict={a:[[1,2],[2,2]],b:[[12,21,4],[3,2,4]] }))"
   ]
  },
  {
   "cell_type": "code",
   "execution_count": 11,
   "metadata": {},
   "outputs": [
    {
     "name": "stdout",
     "output_type": "stream",
     "text": [
      "10.0\n"
     ]
    }
   ],
   "source": [
    "c=tf.placeholder(tf.float32, shape=(3)) # producto punto entre 2 vectores\n",
    "d=tf.placeholder(tf.float32, shape=(3)) # el 3es que tiene tres elementos\n",
    "punto=tf.tensordot(c,d,1)\n",
    "init=tf.global_variables_initializer()\n",
    "sess=tf.Session()\n",
    "sess.run(init)\n",
    "print(sess.run(punto,feed_dict={c:[1,2,3],d:[3,2,1]}))"
   ]
  },
  {
   "cell_type": "code",
   "execution_count": null,
   "metadata": {},
   "outputs": [],
   "source": []
  }
 ],
 "metadata": {
  "kernelspec": {
   "display_name": "Python 3",
   "language": "python",
   "name": "python3"
  },
  "language_info": {
   "codemirror_mode": {
    "name": "ipython",
    "version": 3
   },
   "file_extension": ".py",
   "mimetype": "text/x-python",
   "name": "python",
   "nbconvert_exporter": "python",
   "pygments_lexer": "ipython3",
   "version": "3.7.2"
  }
 },
 "nbformat": 4,
 "nbformat_minor": 2
}
