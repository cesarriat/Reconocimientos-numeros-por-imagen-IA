{
 "cells": [
  {
   "cell_type": "code",
   "execution_count": 2,
   "metadata": {},
   "outputs": [
    {
     "name": "stdout",
     "output_type": "stream",
     "text": [
      "curses is not supported on this machine (please install/reinstall curses for an optimal experience)\n",
      "WARNING:tensorflow:From C:\\Users\\CESAR\\Anaconda3\\Nueva carpeta\\envs\\JAP\\lib\\site-packages\\tensorflow\\python\\framework\\op_def_library.py:263: colocate_with (from tensorflow.python.framework.ops) is deprecated and will be removed in a future version.\n",
      "Instructions for updating:\n",
      "Colocations handled automatically by placer.\n"
     ]
    }
   ],
   "source": [
    "import numpy as np\n",
    "import tensorflow as tf\n",
    "import tflearn\n",
    "import tflearn.datasets.mnist as mnist"
   ]
  },
  {
   "cell_type": "code",
   "execution_count": 3,
   "metadata": {},
   "outputs": [
    {
     "name": "stdout",
     "output_type": "stream",
     "text": [
      "Extracting mnist/train-images-idx3-ubyte.gz\n",
      "Extracting mnist/train-labels-idx1-ubyte.gz\n",
      "Extracting mnist/t10k-images-idx3-ubyte.gz\n",
      "Extracting mnist/t10k-labels-idx1-ubyte.gz\n"
     ]
    }
   ],
   "source": [
    "trainX, trainY, testX, testY = mnist.load_data(one_hot=True) #con esta nomeclatura ya extrae las etiquetas"
   ]
  },
  {
   "cell_type": "code",
   "execution_count": 4,
   "metadata": {},
   "outputs": [],
   "source": [
    "entradas=784\n",
    "capa1=128 #capa1 tiene 128 nueronas\n",
    "capa2=128\n",
    "clases=10"
   ]
  },
  {
   "cell_type": "code",
   "execution_count": 5,
   "metadata": {},
   "outputs": [],
   "source": [
    "def crear_modelo():\n",
    "    tf.reset_default_graph() #reseatamos para q no nos meta ruido\n",
    "    red = tflearn.input_data([None, entradas]) # no se define por que despues podemos cambiar la cantidad de lotes\n",
    "    red = tflearn.fully_connected(red, capa1, activation='ReLU')\n",
    "    red = tflearn.fully_connected(red, capa2, activation='ReLU')\n",
    "    red = tflearn.fully_connected(red, clases, activation='softmax') #softmax nos da la probabilidad q pertenezcaa una de etas 10 clases\n",
    "    red = tflearn.regression(red, optimizer='sgd', learning_rate=0.01, loss='categorical_crossentropy')\n",
    "    modelo = tflearn.DNN(red)\n",
    "    return modelo"
   ]
  },
  {
   "cell_type": "code",
   "execution_count": 6,
   "metadata": {},
   "outputs": [
    {
     "name": "stdout",
     "output_type": "stream",
     "text": [
      "WARNING:tensorflow:From C:\\Users\\CESAR\\Anaconda3\\Nueva carpeta\\envs\\JAP\\lib\\site-packages\\tflearn\\objectives.py:66: calling reduce_sum_v1 (from tensorflow.python.ops.math_ops) with keep_dims is deprecated and will be removed in a future version.\n",
      "Instructions for updating:\n",
      "keep_dims is deprecated, use keepdims instead\n",
      "WARNING:tensorflow:From C:\\Users\\CESAR\\Anaconda3\\Nueva carpeta\\envs\\JAP\\lib\\site-packages\\tensorflow\\python\\ops\\math_ops.py:3066: to_int32 (from tensorflow.python.ops.math_ops) is deprecated and will be removed in a future version.\n",
      "Instructions for updating:\n",
      "Use tf.cast instead.\n"
     ]
    }
   ],
   "source": [
    "modelo = crear_modelo()"
   ]
  },
  {
   "cell_type": "code",
   "execution_count": 7,
   "metadata": {},
   "outputs": [
    {
     "name": "stdout",
     "output_type": "stream",
     "text": [
      "Training Step: 9899  | total loss: \u001b[1m\u001b[32m0.31328\u001b[0m\u001b[0m | time: 2.043s\n",
      "| SGD | epoch: 100 | loss: 0.31328 - acc: 0.9198 -- iter: 49000/49500\n",
      "Training Step: 9900  | total loss: \u001b[1m\u001b[32m0.31192\u001b[0m\u001b[0m | time: 3.065s\n",
      "| SGD | epoch: 100 | loss: 0.31192 - acc: 0.9202 | val_loss: 0.29504 - val_acc: 0.9145 -- iter: 49500/49500\n",
      "--\n"
     ]
    }
   ],
   "source": [
    "modelo.fit(trainX, trainY, validation_set=0.1, show_metric=True, batch_size=500, n_epoch=100) # va a tomar el 10% para validarlo como aprnedizae ( el 0.1)\n",
    "                                                                                            # que tantas imagines en cada una de las iteraciones                                                                                         \n",
    "                                                                                            # cuantas veces vamos a barrer en nuestros datos"
   ]
  },
  {
   "cell_type": "code",
   "execution_count": 8,
   "metadata": {},
   "outputs": [
    {
     "name": "stdout",
     "output_type": "stream",
     "text": [
      "La certeza es de:  0.923\n"
     ]
    }
   ],
   "source": [
    "predicciones = np.array(modelo.predict(testX)).argmax(axis=1)\n",
    "correctas = testY.argmax(axis=1) # es un arreglo de cual es la clasificiacion correcta\n",
    "certeza = np.mean(predicciones == correctas, axis=0) # que tambien aprendio el algoritmo\n",
    "print(\"La certeza es de: \", certeza)"
   ]
  },
  {
   "cell_type": "code",
   "execution_count": null,
   "metadata": {},
   "outputs": [],
   "source": []
  }
 ],
 "metadata": {
  "kernelspec": {
   "display_name": "Python 3",
   "language": "python",
   "name": "python3"
  },
  "language_info": {
   "codemirror_mode": {
    "name": "ipython",
    "version": 3
   },
   "file_extension": ".py",
   "mimetype": "text/x-python",
   "name": "python",
   "nbconvert_exporter": "python",
   "pygments_lexer": "ipython3",
   "version": "3.7.2"
  }
 },
 "nbformat": 4,
 "nbformat_minor": 2
}
