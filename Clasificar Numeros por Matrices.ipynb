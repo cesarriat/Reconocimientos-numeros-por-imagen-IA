{
 "cells": [
  {
   "cell_type": "code",
   "execution_count": 1,
   "metadata": {},
   "outputs": [],
   "source": [
    "\n",
    "import tensorflow as tf\n",
    "from tensorflow.examples.tutorials.mnist import input_data"
   ]
  },
  {
   "cell_type": "code",
   "execution_count": 2,
   "metadata": {},
   "outputs": [
    {
     "name": "stdout",
     "output_type": "stream",
     "text": [
      "WARNING:tensorflow:From <ipython-input-2-ba97310e7712>:1: read_data_sets (from tensorflow.contrib.learn.python.learn.datasets.mnist) is deprecated and will be removed in a future version.\n",
      "Instructions for updating:\n",
      "Please use alternatives such as official/mnist/dataset.py from tensorflow/models.\n",
      "WARNING:tensorflow:From C:\\Users\\CESAR\\Anaconda3\\Nueva carpeta\\envs\\JAP\\lib\\site-packages\\tensorflow\\contrib\\learn\\python\\learn\\datasets\\mnist.py:260: maybe_download (from tensorflow.contrib.learn.python.learn.datasets.base) is deprecated and will be removed in a future version.\n",
      "Instructions for updating:\n",
      "Please write your own downloading logic.\n",
      "WARNING:tensorflow:From C:\\Users\\CESAR\\Anaconda3\\Nueva carpeta\\envs\\JAP\\lib\\site-packages\\tensorflow\\contrib\\learn\\python\\learn\\datasets\\mnist.py:262: extract_images (from tensorflow.contrib.learn.python.learn.datasets.mnist) is deprecated and will be removed in a future version.\n",
      "Instructions for updating:\n",
      "Please use tf.data to implement this functionality.\n",
      "Extracting MNIST_data/train-images-idx3-ubyte.gz\n",
      "WARNING:tensorflow:From C:\\Users\\CESAR\\Anaconda3\\Nueva carpeta\\envs\\JAP\\lib\\site-packages\\tensorflow\\contrib\\learn\\python\\learn\\datasets\\mnist.py:267: extract_labels (from tensorflow.contrib.learn.python.learn.datasets.mnist) is deprecated and will be removed in a future version.\n",
      "Instructions for updating:\n",
      "Please use tf.data to implement this functionality.\n",
      "Extracting MNIST_data/train-labels-idx1-ubyte.gz\n",
      "WARNING:tensorflow:From C:\\Users\\CESAR\\Anaconda3\\Nueva carpeta\\envs\\JAP\\lib\\site-packages\\tensorflow\\contrib\\learn\\python\\learn\\datasets\\mnist.py:110: dense_to_one_hot (from tensorflow.contrib.learn.python.learn.datasets.mnist) is deprecated and will be removed in a future version.\n",
      "Instructions for updating:\n",
      "Please use tf.one_hot on tensors.\n",
      "Extracting MNIST_data/t10k-images-idx3-ubyte.gz\n",
      "Extracting MNIST_data/t10k-labels-idx1-ubyte.gz\n",
      "WARNING:tensorflow:From C:\\Users\\CESAR\\Anaconda3\\Nueva carpeta\\envs\\JAP\\lib\\site-packages\\tensorflow\\contrib\\learn\\python\\learn\\datasets\\mnist.py:290: DataSet.__init__ (from tensorflow.contrib.learn.python.learn.datasets.mnist) is deprecated and will be removed in a future version.\n",
      "Instructions for updating:\n",
      "Please use alternatives such as official/mnist/dataset.py from tensorflow/models.\n"
     ]
    }
   ],
   "source": [
    "mnist=input_data.read_data_sets(\"MNIST_data/\", one_hot=True) #La imagenes tienen dimension de 28x28"
   ]
  },
  {
   "cell_type": "code",
   "execution_count": 3,
   "metadata": {},
   "outputs": [
    {
     "name": "stdout",
     "output_type": "stream",
     "text": [
      "WARNING:tensorflow:From C:\\Users\\CESAR\\Anaconda3\\Nueva carpeta\\envs\\JAP\\lib\\site-packages\\tensorflow\\python\\framework\\op_def_library.py:263: colocate_with (from tensorflow.python.framework.ops) is deprecated and will be removed in a future version.\n",
      "Instructions for updating:\n",
      "Colocations handled automatically by placer.\n"
     ]
    }
   ],
   "source": [
    "x=tf.placeholder(tf.float32,[None,784]) #imagen del numero descompuesta a un vector 28*28=784 , None es una matriz variable\n",
    "P=tf.Variable(tf.zeros([784,10])) #Matriz de pesos, 784 para recibir la imagen, 10 por las posible salidas/etiquetas o capas\n",
    "b=tf.Variable(tf.zeros([10])) #Vector con bias/sesgo\n",
    "y=tf.matmul(x,P)+b #La operacion que se hara en los nodos que reciben entradas\n",
    "yR=tf.placeholder(tf.float32,[None,10]) # Matriz con las etiquetas REALES del set de datos"
   ]
  },
  {
   "cell_type": "markdown",
   "metadata": {},
   "source": [
    "# Definir la función de costo entropia cruzada (Cross Entropy) para poder medir el error. La salida será con Softmax"
   ]
  },
  {
   "cell_type": "code",
   "execution_count": 4,
   "metadata": {},
   "outputs": [
    {
     "name": "stdout",
     "output_type": "stream",
     "text": [
      "WARNING:tensorflow:From <ipython-input-4-de497754c419>:1: softmax_cross_entropy_with_logits (from tensorflow.python.ops.nn_ops) is deprecated and will be removed in a future version.\n",
      "Instructions for updating:\n",
      "\n",
      "Future major versions of TensorFlow will allow gradients to flow\n",
      "into the labels input on backprop by default.\n",
      "\n",
      "See `tf.nn.softmax_cross_entropy_with_logits_v2`.\n",
      "\n"
     ]
    }
   ],
   "source": [
    "softmax=tf.nn.softmax_cross_entropy_with_logits(labels=yR,logits=y) #yR son los valores reales\n",
    "costo=tf.reduce_mean(softmax)# la idea es que este numero se reduzca a cero\n",
    "optimizador=tf.train.GradientDescentOptimizer(0.5).minimize(costo)"
   ]
  },
  {
   "cell_type": "markdown",
   "metadata": {},
   "source": [
    "\n",
    "# Correr la gráfica computacional"
   ]
  },
  {
   "cell_type": "code",
   "execution_count": 5,
   "metadata": {},
   "outputs": [],
   "source": [
    "\n",
    "prediccion = tf.equal(tf.argmax(y, 1), tf.argmax(yR, 1)) #Nos da arreglo de booleanos para decirnos , dentro del vector nos el max porq es le mas probable\n",
    "                                                         #cuales estan bien y cuales no\n",
    "accuracy = tf.reduce_mean(tf.cast(prediccion, tf.float32))#Nos da el porcentaje sobre el arreglo de prediccion, si tuvimos 15 pruebas y 10diero bien y 5 mal este es el porcentaje de certeza\n",
    "Produccion = tf.argmax(y,1)\n",
    "init=tf.global_variables_initializer()"
   ]
  },
  {
   "cell_type": "markdown",
   "metadata": {},
   "source": [
    "# Entrenar algoritmo"
   ]
  },
  {
   "cell_type": "code",
   "execution_count": 6,
   "metadata": {},
   "outputs": [],
   "source": [
    "#Funcion que usaremos para ver que tan bien va a aprendiendo nuestro modelo \n",
    "def avance(epoca_i, sess, last_features, last_labels):\n",
    "    costoActual = sess.run(costo,feed_dict={x: last_features, yR: last_labels})\n",
    "    Certeza = sess.run(accuracy,feed_dict={x:mnist.validation.images,yR: mnist.validation.labels})\n",
    "    print('Epoca: {:<4} - Costo: {:<8.3} Certeza: {:<5.3}'.format(epoca_i,costoActual,Certeza))"
   ]
  },
  {
   "cell_type": "code",
   "execution_count": 9,
   "metadata": {},
   "outputs": [
    {
     "name": "stdout",
     "output_type": "stream",
     "text": [
      "Epoca: 0    - Costo: 1.68     Certeza: 0.277\n",
      "Epoca: 50   - Costo: 0.376    Certeza: 0.874\n",
      "Epoca: 100  - Costo: 0.521    Certeza: 0.9  \n",
      "Epoca: 150  - Costo: 0.368    Certeza: 0.906\n",
      "Epoca: 200  - Costo: 0.293    Certeza: 0.906\n",
      "Epoca: 250  - Costo: 0.314    Certeza: 0.912\n",
      "Epoca: 300  - Costo: 0.316    Certeza: 0.916\n",
      "Epoca: 350  - Costo: 0.312    Certeza: 0.912\n",
      "Epoca: 400  - Costo: 0.332    Certeza: 0.913\n",
      "Epoca: 450  - Costo: 0.288    Certeza: 0.917\n",
      "Epoca: 500  - Costo: 0.249    Certeza: 0.92 \n",
      "Epoca: 550  - Costo: 0.306    Certeza: 0.914\n",
      "Epoca: 600  - Costo: 0.428    Certeza: 0.918\n",
      "Epoca: 650  - Costo: 0.262    Certeza: 0.92 \n",
      "Epoca: 700  - Costo: 0.231    Certeza: 0.918\n",
      "Epoca: 750  - Costo: 0.386    Certeza: 0.922\n",
      "Epoca: 800  - Costo: 0.237    Certeza: 0.915\n",
      "Epoca: 850  - Costo: 0.233    Certeza: 0.92 \n",
      "Epoca: 900  - Costo: 0.262    Certeza: 0.919\n",
      "Epoca: 950  - Costo: 0.234    Certeza: 0.921\n",
      "RESULTADO FINAL:  0.9109\n",
      "Resultado de una imagen [2]\n"
     ]
    }
   ],
   "source": [
    "\n",
    "with tf.Session() as sess:\n",
    "    sess.run(init)\n",
    "    for epoca_i in range(1000):\n",
    "        lotex, lotey = mnist.train.next_batch(100)\n",
    "        sess.run(optimizador, feed_dict={x: lotex, yR: lotey})\n",
    "        if (epoca_i%50==0):\n",
    "            avance(epoca_i, sess, lotex, lotey)\n",
    "    print('RESULTADO FINAL: ',sess.run(accuracy, feed_dict={x: mnist.test.images,yR: mnist.test.labels}))\n",
    "    print ('Resultado de una imagen',sess.run(Produccion,feed_dict={x: mnist.test.images[1].reshape(1,784)}))"
   ]
  },
  {
   "cell_type": "code",
   "execution_count": 10,
   "metadata": {},
   "outputs": [
    {
     "data": {
      "text/plain": [
       "array([0., 0., 1., 0., 0., 0., 0., 0., 0., 0.])"
      ]
     },
     "execution_count": 10,
     "metadata": {},
     "output_type": "execute_result"
    }
   ],
   "source": [
    "mnist.test.labels[1]"
   ]
  },
  {
   "cell_type": "code",
   "execution_count": null,
   "metadata": {},
   "outputs": [],
   "source": [
    "\n"
   ]
  },
  {
   "cell_type": "code",
   "execution_count": null,
   "metadata": {},
   "outputs": [],
   "source": []
  }
 ],
 "metadata": {
  "kernelspec": {
   "display_name": "Python 3",
   "language": "python",
   "name": "python3"
  },
  "language_info": {
   "codemirror_mode": {
    "name": "ipython",
    "version": 3
   },
   "file_extension": ".py",
   "mimetype": "text/x-python",
   "name": "python",
   "nbconvert_exporter": "python",
   "pygments_lexer": "ipython3",
   "version": "3.7.2"
  }
 },
 "nbformat": 4,
 "nbformat_minor": 2
}
