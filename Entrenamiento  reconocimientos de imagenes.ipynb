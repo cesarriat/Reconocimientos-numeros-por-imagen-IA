{
 "cells": [
  {
   "cell_type": "markdown",
   "metadata": {},
   "source": [
    "Importamos las librerias; es muy importante que la carpeta de imagenes y los paquetes en este caso mnist esten en el mismo ambiente"
   ]
  },
  {
   "cell_type": "code",
   "execution_count": 12,
   "metadata": {},
   "outputs": [],
   "source": [
    "\n",
    "from mnist import MNIST\n",
    "\n",
    "mndata = MNIST('MNIST_data')"
   ]
  },
  {
   "cell_type": "markdown",
   "metadata": {},
   "source": [
    " DATOS de entrenamiento (features = images y labels = labels)\n",
    " (features = datos y labels = etiquetas)"
   ]
  },
  {
   "cell_type": "code",
   "execution_count": 13,
   "metadata": {},
   "outputs": [],
   "source": [
    "\n",
    "datos, labels = mndata.load_training()"
   ]
  },
  {
   "cell_type": "markdown",
   "metadata": {},
   "source": [
    "Las librerias de visualización\n"
   ]
  },
  {
   "cell_type": "markdown",
   "metadata": {},
   "source": [
    "Trabajando en escala de grises"
   ]
  },
  {
   "cell_type": "code",
   "execution_count": 14,
   "metadata": {},
   "outputs": [],
   "source": [
    "\n",
    "%matplotlib inline\n",
    "from matplotlib import pyplot as plt"
   ]
  },
  {
   "cell_type": "markdown",
   "metadata": {},
   "source": [
    "al trabajar con arrays instalo numpy"
   ]
  },
  {
   "cell_type": "code",
   "execution_count": 16,
   "metadata": {},
   "outputs": [],
   "source": [
    "import numpy as np"
   ]
  },
  {
   "cell_type": "code",
   "execution_count": 17,
   "metadata": {},
   "outputs": [
    {
     "data": {
      "image/png": "[encoded data removed]",
      "text/plain": [
       "<Figure size 432x288 with 25 Axes>"
      ]
     },
     "metadata": {
      "needs_background": "light"
     },
     "output_type": "display_data"
    }
   ],
   "source": [
    "plt.gray()\n",
    "\n",
    "\n",
    "for i in range(25):\n",
    "    plt.subplot(5,5,i+1)\n",
    "    \n",
    "    d_image = datos[i]\n",
    "    d_image = np.array(d_image, dtype='float')\n",
    "    \n",
    "    pixels = d_image.reshape((28, 28))\n",
    "    \n",
    "    plt.imshow(pixels, cmap='gray')\n",
    "    plt.title(labels[i])\n",
    "    plt.axis('off')\n",
    "plt.show()"
   ]
  },
  {
   "cell_type": "markdown",
   "metadata": {},
   "source": [
    "sk-learn para dividir todo el set de entrenamiento en: entrenamiento y validación\n",
    " https://scikit-learn.org/stable/modules/generated/sklearn.model_selection.train_test_split.html\n",
    " \n"
   ]
  },
  {
   "cell_type": "code",
   "execution_count": 18,
   "metadata": {},
   "outputs": [],
   "source": [
    "from sklearn.model_selection import train_test_split"
   ]
  },
  {
   "cell_type": "markdown",
   "metadata": {},
   "source": [
    " DATOS \n",
    " todos los datos de training... deben ser divididos, el comando split permite dividir estos datos en diferentes porcentajes\n",
    "\n",
    "  -Datos de Entremamiento 70%  (features, labels)\n",
    "  -Datos de Testing  30%   (features y labels)\n",
    "\n",
    " sklearn.model_selection.train_test_split(*arrays, **options)\n",
    "\n",
    "test zize agarra el 30% y me toma datos random"
   ]
  },
  {
   "cell_type": "code",
   "execution_count": 19,
   "metadata": {},
   "outputs": [],
   "source": [
    "train_data, test_data, train_labels, test_labels = train_test_split(datos, labels, test_size=0.3, random_state=42)"
   ]
  },
  {
   "cell_type": "markdown",
   "metadata": {},
   "source": [
    "# Modelos y Entrenamiento\n",
    "Los datos estan listo para ser entrenados en nuestro clasificador.\n",
    "\n",
    "Vamos a seleccionar entre las diferentes opciones de Machine Learning supervisado:\n",
    "\n",
    "* Arbol de decisiones \"Decision Tree\"\n",
    "* Random Forest"
   ]
  },
  {
   "cell_type": "markdown",
   "metadata": {},
   "source": [
    "Se importa la libreria necesaria"
   ]
  },
  {
   "cell_type": "code",
   "execution_count": 21,
   "metadata": {},
   "outputs": [],
   "source": [
    "\n",
    "from sklearn.tree import DecisionTreeClassifier"
   ]
  },
  {
   "cell_type": "markdown",
   "metadata": {},
   "source": [
    "Crea el clasificador"
   ]
  },
  {
   "cell_type": "code",
   "execution_count": 23,
   "metadata": {},
   "outputs": [],
   "source": [
    "\n",
    "\n",
    "clf_dt = DecisionTreeClassifier()"
   ]
  },
  {
   "cell_type": "markdown",
   "metadata": {},
   "source": [
    "Para entrenar usamos fit"
   ]
  },
  {
   "cell_type": "code",
   "execution_count": 24,
   "metadata": {},
   "outputs": [
    {
     "data": {
      "text/plain": [
       "DecisionTreeClassifier(class_weight=None, criterion='gini', max_depth=None,\n",
       "            max_features=None, max_leaf_nodes=None,\n",
       "            min_impurity_decrease=0.0, min_impurity_split=None,\n",
       "            min_samples_leaf=1, min_samples_split=2,\n",
       "            min_weight_fraction_leaf=0.0, presort=False, random_state=None,\n",
       "            splitter='best')"
      ]
     },
     "execution_count": 24,
     "metadata": {},
     "output_type": "execute_result"
    }
   ],
   "source": [
    "\n",
    "\n",
    "clf_dt.fit(train_data, train_labels)"
   ]
  },
  {
   "cell_type": "markdown",
   "metadata": {},
   "source": [
    "# Evaluación \n",
    "Utilizando la SKLEARN Matriz de Confusión\n",
    "\n",
    "https://scikit-learn.org/stable/auto_examples/model_selection/plot_confusion_matrix.html#sphx-glr-auto-examples-model-selection-plot-confusion-matrix-py"
   ]
  },
  {
   "cell_type": "markdown",
   "metadata": {},
   "source": [
    "Importa librerias"
   ]
  },
  {
   "cell_type": "code",
   "execution_count": 26,
   "metadata": {},
   "outputs": [],
   "source": [
    "from sklearn.metrics import confusion_matrix"
   ]
  },
  {
   "cell_type": "markdown",
   "metadata": {},
   "source": [
    "definimos una funcion para evaluar el clasificador"
   ]
  },
  {
   "cell_type": "code",
   "execution_count": 27,
   "metadata": {},
   "outputs": [],
   "source": [
    "def evaluate_classifier(clf, test_data, test_labels):\n",
    "    pred = clf.predict(test_data)\n",
    "    \n",
    "    MC = confusion_matrix(test_labels, pred)\n",
    "    return MC"
   ]
  },
  {
   "cell_type": "markdown",
   "metadata": {},
   "source": [
    "vamos a evaluar nuestro clasificador con todo el \"training\" y \"testing\" set\n",
    "\n",
    "evaluar clasificador: ARBOL DE DECISIONES, datos de evaluación: test_data, test_labels"
   ]
  },
  {
   "cell_type": "code",
   "execution_count": 28,
   "metadata": {},
   "outputs": [],
   "source": [
    "MC = evaluate_classifier(clf_dt, test_data, test_labels)"
   ]
  },
  {
   "cell_type": "markdown",
   "metadata": {},
   "source": [
    "Imprimi la matriz"
   ]
  },
  {
   "cell_type": "code",
   "execution_count": 29,
   "metadata": {},
   "outputs": [
    {
     "name": "stdout",
     "output_type": "stream",
     "text": [
      "[[1642    0   25   16   19   31   31    7   27    7]\n",
      " [   2 1912   22   11    3    9    8    8   11    8]\n",
      " [  15   25 1461   57   22   22   53   34   49   21]\n",
      " [  15   15   58 1497   15   93    8   30   75   40]\n",
      " [  11    7   19    7 1493   17   19   32   23   98]\n",
      " [  38   13   22   79   27 1321   46   11   58   38]\n",
      " [  29    3   30   12   28   34 1599    1   40   11]\n",
      " [   5   13   38   21   21   16    3 1766   22   32]\n",
      " [  21   33   53   53   46   60   38   25 1344   57]\n",
      " [  14   11   21   35   79   43   12   62   56 1430]]\n"
     ]
    }
   ],
   "source": [
    "print(MC)"
   ]
  },
  {
   "cell_type": "markdown",
   "metadata": {},
   "source": [
    "Calcula los valores de la matriz de confusión, pero con los datos de la diagonal que son lo valores correctos y que mejor dieron"
   ]
  },
  {
   "cell_type": "code",
   "execution_count": 30,
   "metadata": {},
   "outputs": [],
   "source": [
    "score = MC.diagonal().sum()*100./MC.sum()"
   ]
  },
  {
   "cell_type": "markdown",
   "metadata": {},
   "source": [
    "Imprime los puntajes"
   ]
  },
  {
   "cell_type": "code",
   "execution_count": 31,
   "metadata": {},
   "outputs": [
    {
     "name": "stdout",
     "output_type": "stream",
     "text": [
      "85.91666666666667\n"
     ]
    }
   ],
   "source": [
    "print(score)"
   ]
  },
  {
   "cell_type": "markdown",
   "metadata": {},
   "source": [
    "# OTROS MODELOS"
   ]
  },
  {
   "cell_type": "markdown",
   "metadata": {},
   "source": [
    "\n",
    "\n",
    "importar RandomForest de sk-learn"
   ]
  },
  {
   "cell_type": "code",
   "execution_count": 34,
   "metadata": {},
   "outputs": [],
   "source": [
    "from sklearn.ensemble import RandomForestClassifier"
   ]
  },
  {
   "cell_type": "markdown",
   "metadata": {},
   "source": [
    "## RandomForest\n",
    "\n",
    "n_estimators numero de árboles que queremos en la red\n",
    "min_samples_split número mínimo de filas que utilizaremos\n",
    "min_samples_leaf número mínimo de samples que tenemos al final del árbol\n",
    "\n",
    "clf_rd = RandomForestClassifier(n_estimators=<numero de arboles>)\n",
    "estimamos con 150 árboles las division son de a 2"
   ]
  },
  {
   "cell_type": "code",
   "execution_count": 35,
   "metadata": {},
   "outputs": [],
   "source": [
    "clf_rd = RandomForestClassifier(n_estimators=150, min_samples_split=2)"
   ]
  },
  {
   "cell_type": "markdown",
   "metadata": {},
   "source": [
    "Se entrena"
   ]
  },
  {
   "cell_type": "markdown",
   "metadata": {},
   "source": [
    " vamos a evaluar nuestro clasificador con todo el \"training\" y \"testing\" set\n",
    " evaluar RANDOM FOREST con el metodo de evaluador clasificador"
   ]
  },
  {
   "cell_type": "code",
   "execution_count": 37,
   "metadata": {},
   "outputs": [
    {
     "data": {
      "text/plain": [
       "RandomForestClassifier(bootstrap=True, class_weight=None, criterion='gini',\n",
       "            max_depth=None, max_features='auto', max_leaf_nodes=None,\n",
       "            min_impurity_decrease=0.0, min_impurity_split=None,\n",
       "            min_samples_leaf=1, min_samples_split=2,\n",
       "            min_weight_fraction_leaf=0.0, n_estimators=150, n_jobs=None,\n",
       "            oob_score=False, random_state=None, verbose=0,\n",
       "            warm_start=False)"
      ]
     },
     "execution_count": 37,
     "metadata": {},
     "output_type": "execute_result"
    }
   ],
   "source": [
    "clf_rd.fit(train_data, train_labels)"
   ]
  },
  {
   "cell_type": "markdown",
   "metadata": {},
   "source": [
    " ahora se evalua la matriz confusión"
   ]
  },
  {
   "cell_type": "code",
   "execution_count": 46,
   "metadata": {},
   "outputs": [],
   "source": [
    "MC = evaluate_classifier(clf_rd, test_data, test_labels)"
   ]
  },
  {
   "cell_type": "code",
   "execution_count": 47,
   "metadata": {},
   "outputs": [
    {
     "name": "stdout",
     "output_type": "stream",
     "text": [
      "[[1776    0    1    0    3    4    8    0   11    2]\n",
      " [   0 1963   12    6    5    0    2    3    1    2]\n",
      " [   7    5 1713    5    4    1    2   15    5    2]\n",
      " [   4    1   28 1738    1   26    2   21   16    9]\n",
      " [   2    2    1    0 1678    0    6    7    2   28]\n",
      " [   6    3    3   19    2 1587    9    2   15    7]\n",
      " [   3    1    1    0    5   10 1760    0    7    0]\n",
      " [   2   12   27    1    8    0    0 1869    3   15]\n",
      " [   1    8   14   13   13   12    5    2 1650   12]\n",
      " [   6    3    5   17   22    9    2   14    9 1676]]\n"
     ]
    }
   ],
   "source": [
    "print(MC)"
   ]
  },
  {
   "cell_type": "markdown",
   "metadata": {},
   "source": [
    "Imprime los puntajes acordase que son los valores de las diagonales"
   ]
  },
  {
   "cell_type": "code",
   "execution_count": 48,
   "metadata": {},
   "outputs": [],
   "source": [
    "score = MC.diagonal().sum()*100./MC.sum()"
   ]
  },
  {
   "cell_type": "code",
   "execution_count": 49,
   "metadata": {},
   "outputs": [
    {
     "name": "stdout",
     "output_type": "stream",
     "text": [
      "96.72222222222223\n"
     ]
    }
   ],
   "source": [
    "print(score)"
   ]
  },
  {
   "cell_type": "markdown",
   "metadata": {},
   "source": [
    " vamos a probar los datos de prueba\n",
    " Cargamos los datos de evaluacion"
   ]
  },
  {
   "cell_type": "markdown",
   "metadata": {},
   "source": [
    "# Set de datos de prueba"
   ]
  },
  {
   "cell_type": "markdown",
   "metadata": {},
   "source": [
    " Aplicamos el clasificador a todo el dataset de Evaluacion \n"
   ]
  },
  {
   "cell_type": "code",
   "execution_count": 51,
   "metadata": {},
   "outputs": [],
   "source": [
    "\n",
    "eval_data, eval_labels = mndata.load_testing()"
   ]
  },
  {
   "cell_type": "code",
   "execution_count": 52,
   "metadata": {},
   "outputs": [],
   "source": [
    "\n",
    "predicted_data = clf_rd.predict(test_data)"
   ]
  },
  {
   "cell_type": "markdown",
   "metadata": {},
   "source": [
    "vamos a evaluar nuestro clasificador con todo el \"training\" y \"testing\" \n",
    "set evaluar RANDOM FOREST con el metodo de evaluador clasificador"
   ]
  },
  {
   "cell_type": "code",
   "execution_count": 53,
   "metadata": {},
   "outputs": [],
   "source": [
    "\n",
    "MC_clf_rd = evaluate_classifier(clf_rd, eval_data, np.array(eval_labels))"
   ]
  },
  {
   "cell_type": "code",
   "execution_count": 54,
   "metadata": {},
   "outputs": [
    {
     "name": "stdout",
     "output_type": "stream",
     "text": [
      "[[ 970    0    0    0    0    2    1    1    5    1]\n",
      " [   0 1123    3    3    0    2    2    1    1    0]\n",
      " [   6    0  997    7    1    0    4    9    8    0]\n",
      " [   0    0   11  971    0    6    0    9    9    4]\n",
      " [   1    0    2    0  950    0    5    1    3   20]\n",
      " [   4    2    0   14    3  855    6    2    4    2]\n",
      " [   5    3    1    0    3    6  938    0    2    0]\n",
      " [   2    4   20    0    0    0    0  990    2   10]\n",
      " [   4    0    6    8    7    5    5    5  922   12]\n",
      " [   5    6    1   12   12    3    1    4    6  959]]\n"
     ]
    }
   ],
   "source": [
    "# imprimir valor de la matriz de confusión\n",
    "print(MC_clf_rd)"
   ]
  },
  {
   "cell_type": "code",
   "execution_count": 55,
   "metadata": {},
   "outputs": [],
   "source": [
    "# calcular el puntaje (score)\n",
    "score_clf_rd = MC_clf_rd.diagonal().sum()*100./MC_clf_rd.sum()"
   ]
  },
  {
   "cell_type": "code",
   "execution_count": 56,
   "metadata": {},
   "outputs": [
    {
     "name": "stdout",
     "output_type": "stream",
     "text": [
      "96.75\n"
     ]
    }
   ],
   "source": [
    "# imprimir el puntaje (score)\n",
    "print(score_clf_rd)"
   ]
  },
  {
   "cell_type": "markdown",
   "metadata": {},
   "source": [
    "# Una prueba mas"
   ]
  },
  {
   "cell_type": "markdown",
   "metadata": {},
   "source": [
    "mostrar un digito seleccionado"
   ]
  },
  {
   "cell_type": "code",
   "execution_count": 68,
   "metadata": {},
   "outputs": [
    {
     "data": {
      "image/png": "[encoded data removed]",
      "text/plain": [
       "<Figure size 432x288 with 1 Axes>"
      ]
     },
     "metadata": {
      "needs_background": "light"
     },
     "output_type": "display_data"
    }
   ],
   "source": [
    "digitextra = test_data[9]\n",
    "d = np.array(digitextra, dtype='float')\n",
    "pixels = d.reshape((28,28))\n",
    "plt.imshow(pixels, cmap ='gray')\n",
    "plt.show()"
   ]
  },
  {
   "cell_type": "markdown",
   "metadata": {},
   "source": [
    "Según nuestro clasificador( con el modelo elegido) en la posicion 8 q valor obtendremos??"
   ]
  },
  {
   "cell_type": "code",
   "execution_count": 70,
   "metadata": {},
   "outputs": [
    {
     "name": "stdout",
     "output_type": "stream",
     "text": [
      "[4]\n"
     ]
    }
   ],
   "source": [
    "print(clf_rd.predict([test_data[9]]))"
   ]
  }
 ],
 "metadata": {
  "kernelspec": {
   "display_name": "Python 3",
   "language": "python",
   "name": "python3"
  },
  "language_info": {
   "codemirror_mode": {
    "name": "ipython",
    "version": 3
   },
   "file_extension": ".py",
   "mimetype": "text/x-python",
   "name": "python",
   "nbconvert_exporter": "python",
   "pygments_lexer": "ipython3",
   "version": "3.7.2"
  }
 },
 "nbformat": 4,
 "nbformat_minor": 2
}
